{
 "cells": [
  {
   "cell_type": "markdown",
   "id": "79adf3f6",
   "metadata": {},
   "source": [
    "# Training data collection\n"
   ]
  },
  {
   "cell_type": "markdown",
   "id": "7c35a8bc",
   "metadata": {},
   "source": [
    "## It is data of users of codeforces with-\n",
    "1. 1000+ problems solved\n",
    "2. data of when a problem was solved\n",
    "3. data of rating changes\n",
    "\n",
    "## Collection to be done using CF API\n",
    "\n",
    "### Result- Dictionary of users with the above data for each user\n",
    "later to be classified into leaf nodes of a random forest tree to categorize new users"
   ]
  },
  {
   "cell_type": "code",
   "execution_count": null,
   "id": "d379d652",
   "metadata": {},
   "outputs": [],
   "source": []
  }
 ],
 "metadata": {
  "kernelspec": {
   "display_name": "patrika",
   "language": "python",
   "name": "patrika"
  },
  "language_info": {
   "codemirror_mode": {
    "name": "ipython",
    "version": 3
   },
   "file_extension": ".py",
   "mimetype": "text/x-python",
   "name": "python",
   "nbconvert_exporter": "python",
   "pygments_lexer": "ipython3",
   "version": "3.7.11"
  }
 },
 "nbformat": 4,
 "nbformat_minor": 5
}
